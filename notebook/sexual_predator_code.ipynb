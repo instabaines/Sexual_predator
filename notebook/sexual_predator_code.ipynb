{
 "cells": [
  {
   "cell_type": "code",
   "execution_count": 33,
   "metadata": {
    "colab": {
     "base_uri": "https://localhost:8080/"
    },
    "id": "xhOjPcRQa9aG",
    "outputId": "7b7cb62d-1955-4f56-e455-ccbb1609f519"
   },
   "outputs": [],
   "source": [
    "from sklearn.linear_model import LogisticRegression\n",
    "from sklearn.preprocessing import StandardScaler,PolynomialFeatures\n",
    "from sklearn.pipeline import Pipeline\n",
    "from sklearn.model_selection import StratifiedKFold, cross_val_score\n",
    "import matplotlib.pyplot as plt\n",
    "import pandas as pd\n",
    "from sklearn.feature_extraction.text import TfidfVectorizer\n",
    "import nltk\n",
    "import re\n",
    "# Uncomment to download \"stopwords\"\n",
    "# nltk.download(\"stopwords\")\n",
    "from nltk.corpus import stopwords\n",
    "from sklearn.model_selection import train_test_split\n",
    "import numpy as np\n",
    "import xml.etree.ElementTree as ET\n",
    "from sklearn.naive_bayes import MultinomialNB\n",
    "from sklearn.metrics import accuracy_score, roc_curve, auc\n",
    "import warnings\n",
    "warnings.filterwarnings('ignore')"
   ]
  },
  {
   "cell_type": "code",
   "execution_count": 7,
   "metadata": {
    "id": "fP8_kosx00dd"
   },
   "outputs": [],
   "source": [
    "id_list= open('./pan12-sexual-predator-identification-training-corpus-2012-05-01/pan12-sexual-predator-identification-training-corpus-2012-05-01/pan12-sexual-predator-identification-training-corpus-predators-2012-05-01.txt','r').read()\n"
   ]
  },
  {
   "cell_type": "code",
   "execution_count": 14,
   "metadata": {
    "id": "D6D8kjo0nPaS"
   },
   "outputs": [],
   "source": [
    "readme= open('./Sexual_predator_dataset/pan12-sexual-predator-identification-training-corpus-2012-05-01/readme.txt','r').read()"
   ]
  },
  {
   "cell_type": "code",
   "execution_count": 15,
   "metadata": {
    "colab": {
     "base_uri": "https://localhost:8080/"
    },
    "id": "kJ4IPM27njQk",
    "outputId": "f3b7dc99-548c-4d9f-f45a-f76da3449887"
   },
   "outputs": [
    {
     "name": "stdout",
     "output_type": "stream",
     "text": [
      "========\n",
      "Overview\n",
      "========\n",
      "\n",
      "This archive contains the training corpus for the \"Sexual Predator Identification\" task of the PAN 2012 Lab, held in conjunction with the CLEF 2012 conference.\n",
      "\n",
      "Find out about all the details at http://pan.webis.de.\n",
      "\n",
      "\n",
      "\n",
      "===========================\n",
      "Training Corpus Description\n",
      "===========================\n",
      "\n",
      "Update 01 May 2012:\n",
      "\n",
      "pan12-sexual-predator-identification-training-corpus-2012-05-01.xml A new xml file containing conversations without bad username substitution.\n",
      "pan12-sexual-predator-identification-diff.txt A text file containing conversation id and line number of modified text \n",
      "pan12-sexual-predator-identification-training-corpus-predators-2012-05-01.txt The list of predators without the ones not present in the traininig set\n",
      "\n",
      "\n",
      "\n",
      "The corpus comprises:\n",
      "\n",
      "pan12-sexual-predator-identification-training-corpus.xml An xml file containing around 60000 documents (each document is a conversation)\n",
      "pan12-sexual-predator-identification-training-corpus-predators.txt A file containing a list of predators id\n",
      "\n",
      "The xml file is organized as follow:\n",
      "<?xml version=\"1.0\" encoding=\"UTF-8\"?>\n",
      "<conversations>\n",
      "  <conversation id=\"id_of_the_conversation\">\n",
      "    <message line=\"1\">\n",
      "      <author>author_1_id</author>\n",
      "      <time>02:56</time>\n",
      "      <text>Bla bla bla bla</text>\n",
      "    </message>\n",
      "    <message line=\"2\">\n",
      "      <author>author_2_id</author>\n",
      "      <time>02:56</time>\n",
      "      <text>bla bla</text>\n",
      "    </message>\n",
      "[...]\n",
      "    <message line=\"n\">\n",
      "      <author> author_1_id </author>\n",
      "      <time>07:12</time>\n",
      "      <text>bla bla bla</text>\n",
      "    </message>\n",
      "  </conversation>\n",
      "</conversations>\n",
      "\n",
      "Every conversation, identified by and unique id, contains a set of messages. Each message, identified by a line number unique in the conversation, is produced by an author, identified by the author_id. In each message there is the text produced by the user and a time indication.\n",
      "\n",
      "Please note that time, user_id and email address have been processed as follows: \n",
      "- The time is formatted as hours:minutes (might not be the real time)\n",
      "- The user_id replaces any mentioning of the user within the conversation\n",
      "- The email addresses have been replaced with a tag <email/>\n",
      "\n",
      "Despite the preprocessing performed on the documents contained in the dataset, we are not responsible for the content of the documents (e.g eventual personal informations that might be contained in the text).\n",
      "\n",
      "The training is a representative sample of the testing dataset and should be considered a training in the sense of \"practicing\" set. \n",
      "\n",
      "The .txt file contains a list of user_id who are Sexual Predator.\n",
      "\n",
      "Given the public nature of the dataset, we ask the participants not to use external or online resources for resolving this task (e.g. search engines) but to extract evidence from the provided datasets only. \n",
      "\n",
      "\n",
      "==========\n",
      "Contacts\n",
      "==========\n",
      "\n",
      "In case of problem with the corpus, you can write directly to Giacomo Inches at giacomo.inches@usi.ch\n",
      "\n"
     ]
    }
   ],
   "source": [
    "print(readme)"
   ]
  },
  {
   "cell_type": "code",
   "execution_count": 16,
   "metadata": {
    "id": "e756x5TDsi7U"
   },
   "outputs": [],
   "source": []
  },
  {
   "cell_type": "code",
   "execution_count": 3,
   "metadata": {
    "id": "Wb4ASKkCtE9I"
   },
   "outputs": [],
   "source": [
    "tree = ET.parse('./pan12-sexual-predator-identification-training-corpus-2012-05-01/pan12-sexual-predator-identification-training-corpus-2012-05-01/pan12-sexual-predator-identification-training-corpus-2012-05-01.xml')\n",
    "root = tree.getroot()"
   ]
  },
  {
   "cell_type": "code",
   "execution_count": 12,
   "metadata": {
    "colab": {
     "base_uri": "https://localhost:8080/"
    },
    "id": "jxejxzzFtV62",
    "outputId": "6defcfcc-b579-4267-817f-ffb03f8d86e4"
   },
   "outputs": [],
   "source": [
    "# dir(child)\n",
    "text=[]\n",
    "label=[]\n",
    "for messages in root.iter('message'):\n",
    "  for ele in messages.getchildren():\n",
    "    if ele.tag=='author':\n",
    "      label.append(int(ele.text in id_list))\n",
    "    elif ele.tag=='text':\n",
    "      text.append(ele.text)\n",
    "texts=[]\n",
    "labels=[]\n",
    "for i in range (len(text)):\n",
    "  if text[i]!=None:\n",
    "    texts.append(text[i])\n",
    "    labels.append(label[i])\n",
    "    # break\n",
    "    # del texts[i]\n",
    "    # del labels[i]"
   ]
  },
  {
   "cell_type": "code",
   "execution_count": null,
   "metadata": {
    "colab": {
     "base_uri": "https://localhost:8080/"
    },
    "id": "Z1dSEAPBB4kU",
    "outputId": "7ef7b89b-6c8c-4ef6-91c3-6719423c355e"
   },
   "outputs": [],
   "source": []
  },
  {
   "cell_type": "code",
   "execution_count": 124,
   "metadata": {
    "colab": {
     "base_uri": "https://localhost:8080/"
    },
    "id": "DagTUndh-Ip9",
    "outputId": "2f36790f-a9ae-41f5-9e76-dab8debab9b9"
   },
   "outputs": [
    {
     "data": {
      "text/plain": [
       "900632"
      ]
     },
     "execution_count": 124,
     "metadata": {},
     "output_type": "execute_result"
    }
   ],
   "source": [
    "len(texts)"
   ]
  },
  {
   "cell_type": "code",
   "execution_count": 9,
   "metadata": {
    "id": "ziigQN463oaZ"
   },
   "outputs": [],
   "source": [
    "\n",
    "\n",
    "\n",
    "def text_preprocessing(s):\n",
    "    \"\"\"\n",
    "    - Lowercase the sentence\n",
    "    - Change \"'t\" to \"not\"\n",
    "    - Remove \"@name\"\n",
    "    - Isolate and remove punctuations except \"?\"\n",
    "    - Remove other special characters\n",
    "    - Remove stop words except \"not\" and \"can\"\n",
    "    - Remove trailing whitespace\n",
    "    \"\"\"\n",
    "    s = s.lower()\n",
    "    # Change 't to 'not'\n",
    "    s = re.sub(r\"\\'t\", \" not\", s)\n",
    "    # Remove @name\n",
    "    s = re.sub(r'(@.*?)[\\s]', ' ', s)\n",
    "    # Isolate and remove punctuations except '?'\n",
    "    s = re.sub(r'([\\'\\\"\\.\\(\\)\\!\\?\\\\\\/\\,])', r' \\1 ', s)\n",
    "    s = re.sub(r'[^\\w\\s\\?]', ' ', s)\n",
    "    # Remove some special characters\n",
    "    s = re.sub(r'([\\;\\:\\|•«\\n])', ' ', s)\n",
    "    # Remove stopwords except 'not' and 'can'\n",
    "    s = \" \".join([word for word in s.split()\n",
    "                  if word not in stopwords.words('english')\n",
    "                  or word in ['not', 'can']])\n",
    "    # Remove trailing whitespace\n",
    "    s = re.sub(r'\\s+', ' ', s).strip()\n",
    "    \n",
    "    return s"
   ]
  },
  {
   "cell_type": "code",
   "execution_count": 12,
   "metadata": {
    "colab": {
     "base_uri": "https://localhost:8080/"
    },
    "id": "3FfrztO1-yl1",
    "outputId": "bed16d35-d9e1-466a-eb10-337717d3decd"
   },
   "outputs": [
    {
     "data": {
      "text/plain": [
       "range(0, 900632)"
      ]
     },
     "execution_count": 12,
     "metadata": {},
     "output_type": "execute_result"
    }
   ],
   "source": [
    "range(len(texts))\n"
   ]
  },
  {
   "cell_type": "code",
   "execution_count": 18,
   "metadata": {
    "id": "kSzhbYU4tuL7"
   },
   "outputs": [],
   "source": [
    "df =pd.DataFrame({'text':texts,\"labels\":labels})\n",
    "df['text']=df['text'].apply(text_preprocessing)"
   ]
  },
  {
   "cell_type": "code",
   "execution_count": 19,
   "metadata": {},
   "outputs": [],
   "source": [
    "# modelling\n",
    "\n",
    "X_train_preprocessed,X_val_preprocessed,y_train,y_val = train_test_split(df['text'],df['labels'], test_size=0.2,stratify=labels)"
   ]
  },
  {
   "cell_type": "code",
   "execution_count": 20,
   "metadata": {
    "id": "Yv1K0tVUuLA-"
   },
   "outputs": [],
   "source": [
    "# Preprocess text\n",
    "# X_train_preprocessed = np.array([text_preprocessing(text) for text in X_train])\n",
    "# X_val_preprocessed = np.array([text_preprocessing(text) for text in X_test])\n",
    "\n",
    "# Calculate TF-IDF\n",
    "tf_idf = TfidfVectorizer(ngram_range=(1, 3),\n",
    "                         binary=True,\n",
    "                         smooth_idf=False)\n",
    "X_train_tfidf = tf_idf.fit_transform(X_train_preprocessed)\n",
    "X_val_tfidf = tf_idf.transform(X_val_preprocessed)"
   ]
  },
  {
   "cell_type": "code",
   "execution_count": 21,
   "metadata": {},
   "outputs": [],
   "source": [
    "import pickle\n",
    "with open('./X_train_preprocessed.pkl','wb') as f:\n",
    "    pickle.dump(X_train_preprocessed,f)\n",
    "with open('./X_val_preprocessed.pkl','wb') as f:\n",
    "    pickle.dump(X_val_preprocessed,f)\n",
    "\n",
    "# X_train_preprocessed=pickle.load(open('./X_train_preprocessed.pkl','rb'))\n",
    "# X_val_preprocessed =pickle.load(open('./X_val_preprocessed.pkl','rb'))"
   ]
  },
  {
   "cell_type": "code",
   "execution_count": 22,
   "metadata": {
    "id": "_Jgwj8W2-tJw"
   },
   "outputs": [],
   "source": [
    "def get_auc_CV(model):\n",
    "    \"\"\"\n",
    "    Return the average AUC score from cross-validation.\n",
    "    \"\"\"\n",
    "    # Set KFold to shuffle data before the split\n",
    "    kf = StratifiedKFold(5, shuffle=True, random_state=1)\n",
    "\n",
    "    # Get AUC scores\n",
    "    auc = cross_val_score(\n",
    "        model, X_train_tfidf, y_train, scoring=\"roc_auc\", cv=kf)\n",
    "\n",
    "    return auc.mean()"
   ]
  },
  {
   "cell_type": "code",
   "execution_count": 26,
   "metadata": {
    "id": "_Jgwj8W2-tJw"
   },
   "outputs": [
    {
     "name": "stdout",
     "output_type": "stream",
     "text": [
      "Best alpha:  0.4\n"
     ]
    },
    {
     "data": {
      "image/png": "[encoded data removed]",
      "text/plain": [
       "<Figure size 432x288 with 1 Axes>"
      ]
     },
     "metadata": {
      "needs_background": "light"
     },
     "output_type": "display_data"
    }
   ],
   "source": [
    "# Trying Multinomial algorithms\n",
    "res_mnb = pd.Series([get_auc_CV(MultinomialNB(i))\n",
    "                 for i in np.arange(0.1, 10, 0.1)],\n",
    "                index=np.arange(0.1, 10, 0.1))\n",
    "\n",
    "best_alpha = np.round(res_mnb.idxmax(), 2)\n",
    "print('Best alpha: ', best_alpha)\n",
    "\n",
    "plt.plot(res_mnb)\n",
    "plt.title('AUC vs. Alpha')\n",
    "plt.xlabel('Alpha')\n",
    "plt.ylabel('AUC')\n",
    "plt.show()"
   ]
  },
  {
   "cell_type": "code",
   "execution_count": 29,
   "metadata": {},
   "outputs": [
    {
     "name": "stdout",
     "output_type": "stream",
     "text": [
      "Best C:  10.0\n"
     ]
    },
    {
     "data": {
      "image/png": "[encoded data removed]",
      "text/plain": [
       "<Figure size 432x288 with 1 Axes>"
      ]
     },
     "metadata": {
      "needs_background": "light"
     },
     "output_type": "display_data"
    }
   ],
   "source": [
    "#Try logistic regression\n",
    "res_log = pd.Series([get_auc_CV(LogisticRegression(C=i))\n",
    "                 for i in [0.001, 0.01, 0.1, 1, 10]],\n",
    "                index=[1000, 100, 0.1, 1, 10])\n",
    "\n",
    "best_C = np.round(res_log.idxmax(), 2)\n",
    "print('Best C: ', best_C)\n",
    "\n",
    "plt.plot(res_log)\n",
    "plt.title('AUC vs. Alpha')\n",
    "plt.xlabel('C values')\n",
    "plt.ylabel('AUC')\n",
    "plt.show()"
   ]
  },
  {
   "cell_type": "code",
   "execution_count": 39,
   "metadata": {},
   "outputs": [],
   "source": [
    "\n",
    "\n",
    "def evaluate_roc(preds, y_true):\n",
    "    \"\"\"\n",
    "    - Print AUC and accuracy on the test set\n",
    "    - Plot ROC\n",
    "    @params    probs (np.array): an array of predicted probabilities with shape (len(y_true), 2)\n",
    "    @params    y_true (np.array): an array of the true values with shape (len(y_true),)\n",
    "    \"\"\"\n",
    "#     preds = probs[:, 1]\n",
    "    fpr, tpr, threshold = roc_curve(y_true, preds)\n",
    "    roc_auc = auc(fpr, tpr)\n",
    "    print(f'AUC: {roc_auc:.4f}')\n",
    "       \n",
    "    # Get accuracy over the test set\n",
    "    y_pred = np.where(preds >= 0.5, 1, 0)\n",
    "    accuracy = accuracy_score(y_true, y_pred)\n",
    "    print(f'Accuracy: {accuracy*100:.2f}%')\n",
    "    \n",
    "    # Plot ROC AUC\n",
    "    plt.title('Receiver Operating Characteristic')\n",
    "    plt.plot(fpr, tpr, 'b', label = 'AUC = %0.2f' % roc_auc)\n",
    "    plt.legend(loc = 'lower right')\n",
    "    plt.plot([0, 1], [0, 1],'r--')\n",
    "    plt.xlim([0, 1])\n",
    "    plt.ylim([0, 1])\n",
    "    plt.ylabel('True Positive Rate')\n",
    "    plt.xlabel('False Positive Rate')\n",
    "    plt.show()\n"
   ]
  },
  {
   "cell_type": "code",
   "execution_count": 40,
   "metadata": {},
   "outputs": [
    {
     "name": "stdout",
     "output_type": "stream",
     "text": [
      "AUC: 0.7856\n",
      "Accuracy: 95.48%\n"
     ]
    },
    {
     "data": {
      "image/png": "[encoded data removed]",
      "text/plain": [
       "<Figure size 432x288 with 1 Axes>"
      ]
     },
     "metadata": {
      "needs_background": "light"
     },
     "output_type": "display_data"
    }
   ],
   "source": [
    "# Compute predicted probabilities\n",
    "nb_model = MultinomialNB(alpha=0.4)\n",
    "nb_model.fit(X_train_tfidf, y_train)\n",
    "probs = nb_model.predict_proba(X_val_tfidf)\n",
    "preds = probs[:, 1]\n",
    "# Evaluate the classifier\n",
    "evaluate_roc(preds, y_val)"
   ]
  },
  {
   "cell_type": "code",
   "execution_count": 45,
   "metadata": {},
   "outputs": [
    {
     "name": "stdout",
     "output_type": "stream",
     "text": [
      "AUC: 0.8631\n",
      "Accuracy: 95.39%\n"
     ]
    },
    {
     "data": {
      "image/png": "[encoded data removed]",
      "text/plain": [
       "<Figure size 432x288 with 1 Axes>"
      ]
     },
     "metadata": {
      "needs_background": "light"
     },
     "output_type": "display_data"
    }
   ],
   "source": [
    "log_reg=LogisticRegression(C=10)\n",
    "log_reg.fit(X_train_tfidf, y_train)\n",
    "probs=log_reg.predict_proba(X_val_tfidf)\n",
    "preds = probs[:, 1]\n",
    "evaluate_roc(preds, y_val)"
   ]
  },
  {
   "cell_type": "code",
   "execution_count": null,
   "metadata": {},
   "outputs": [],
   "source": []
  },
  {
   "cell_type": "code",
   "execution_count": null,
   "metadata": {},
   "outputs": [],
   "source": []
  }
 ],
 "metadata": {
  "colab": {
   "collapsed_sections": [],
   "name": "sexual_predator_exploratory",
   "provenance": []
  },
  "kernelspec": {
   "display_name": "Python 3",
   "language": "python",
   "name": "python3"
  },
  "language_info": {
   "codemirror_mode": {
    "name": "ipython",
    "version": 3
   },
   "file_extension": ".py",
   "mimetype": "text/x-python",
   "name": "python",
   "nbconvert_exporter": "python",
   "pygments_lexer": "ipython3",
   "version": "3.7.7"
  }
 },
 "nbformat": 4,
 "nbformat_minor": 1
}
